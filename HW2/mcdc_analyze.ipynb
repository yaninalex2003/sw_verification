{
 "cells": [
  {
   "cell_type": "code",
   "execution_count": 14,
   "metadata": {},
   "outputs": [
    {
     "name": "stdout",
     "output_type": "stream",
     "text": [
      "False,False,True,False\n",
      "\n",
      "False,False,True,True\n",
      "\n",
      "False,True,False,False\n",
      "\n",
      "False,True,False,True\n",
      "\n",
      "True,False,True,False\n",
      "\n",
      "True,False,True,True\n",
      "\n",
      "True,True,False,False\n",
      "\n",
      "True,True,True,False\n",
      "\n",
      "True,True,True,True\n",
      "\n"
     ]
    }
   ],
   "source": [
    "MCDC_FILE_NAME_LOGS = \"search_mcdc_logs.csv\"\n",
    "\n",
    "with open(MCDC_FILE_NAME_LOGS, 'r') as logs:\n",
    "    lines = logs.readlines()\n",
    "    distinct_lines = sorted(set(lines))\n",
    "    for line in distinct_lines:\n",
    "        print(line)\n"
   ]
  },
  {
   "cell_type": "code",
   "execution_count": 15,
   "metadata": {},
   "outputs": [
    {
     "name": "stdout",
     "output_type": "stream",
     "text": [
      "state != 0    symbol not in self.trie[state]    symbol in self.trie[state]    self.out[state]\n",
      "False                       False                       True                       False\n",
      "\n",
      "False                       False                       True                       True\n",
      "\n",
      "False                       True                       False                       False\n",
      "\n",
      "False                       True                       False                       True\n",
      "\n",
      "True                       False                       True                       False\n",
      "\n",
      "True                       False                       True                       True\n",
      "\n",
      "True                       True                       False                       False\n",
      "\n",
      "True                       True                       True                       False\n",
      "\n",
      "True                       True                       True                       True\n",
      "\n"
     ]
    }
   ],
   "source": [
    "MCDC_FILE_NAME_LOGS = \"search_mcdc_logs.csv\"\n",
    "\n",
    "print(\"state != 0   \", \"symbol not in self.trie[state]   \", \"symbol in self.trie[state]   \", \"self.out[state]\")\n",
    "with open(MCDC_FILE_NAME_LOGS, 'r') as logs:\n",
    "    lines = logs.readlines()\n",
    "    distinct_lines = sorted(set(lines))\n",
    "    for line in distinct_lines:\n",
    "        print(\"                       \".join(line.split(\",\")))\n"
   ]
  }
 ],
 "metadata": {
  "kernelspec": {
   "display_name": "Python 3",
   "language": "python",
   "name": "python3"
  },
  "language_info": {
   "codemirror_mode": {
    "name": "ipython",
    "version": 3
   },
   "file_extension": ".py",
   "mimetype": "text/x-python",
   "name": "python",
   "nbconvert_exporter": "python",
   "pygments_lexer": "ipython3",
   "version": "3.11.10"
  }
 },
 "nbformat": 4,
 "nbformat_minor": 2
}
